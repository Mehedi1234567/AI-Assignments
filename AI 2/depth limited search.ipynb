{
 "cells": [
  {
   "cell_type": "code",
   "execution_count": 15,
   "metadata": {},
   "outputs": [
    {
     "name": "stdout",
     "output_type": "stream",
     "text": [
      "Target is reachable from source within max depth\n"
     ]
    }
   ],
   "source": [
    "\n",
    "from collections import defaultdict \n",
    "\n",
    "class Graph: \n",
    "  \n",
    "    def __init__(self,vertices): \n",
    "   \n",
    "        self.V = vertices \n",
    "  \n",
    "      \n",
    "        self.graph = defaultdict(list) \n",
    "  \n",
    "    \n",
    "    def addEdge(self,u,v): \n",
    "        self.graph[u].append(v) \n",
    "  \n",
    "    \n",
    "    def DLS(self,src,target,maxDepth): \n",
    "  \n",
    "        if src == target : return True\n",
    "  \n",
    "       \n",
    "        if maxDepth <= 0 : return False\n",
    "  \n",
    "        \n",
    "        for i in self.graph[src]: \n",
    "                if(self.DLS(i,target,maxDepth-1)): \n",
    "                    return True\n",
    "        return False\n",
    "  \n",
    "    \n",
    "    def IDDFS(self,src, target, maxDepth): \n",
    "  \n",
    "        \n",
    "        for i in range(maxDepth): \n",
    "            if (self.DLS(src, target, i)): \n",
    "                return True\n",
    "        return False\n",
    "  \n",
    "g = Graph (7); \n",
    "g.addEdge(0, 1) \n",
    "g.addEdge(0, 2) \n",
    "g.addEdge(1, 3) \n",
    "g.addEdge(1, 4) \n",
    "g.addEdge(2, 5) \n",
    "g.addEdge(2, 6) \n",
    "  \n",
    "target = 5; maxDepth = 4; src = 0\n",
    "  \n",
    "if g.IDDFS(src, target, maxDepth) == True: \n",
    "    print (\"Target is reachable from source \" +\n",
    "        \"within max depth\") \n",
    "else : \n",
    "    print (\"Target is NOT reachable from source \" +\n",
    "        \"within max depth\") \n",
    "  \n"
   ]
  },
  {
   "cell_type": "code",
   "execution_count": null,
   "metadata": {},
   "outputs": [],
   "source": []
  }
 ],
 "metadata": {
  "kernelspec": {
   "display_name": "Python 3",
   "language": "python",
   "name": "python3"
  },
  "language_info": {
   "codemirror_mode": {
    "name": "ipython",
    "version": 3
   },
   "file_extension": ".py",
   "mimetype": "text/x-python",
   "name": "python",
   "nbconvert_exporter": "python",
   "pygments_lexer": "ipython3",
   "version": "3.7.0"
  }
 },
 "nbformat": 4,
 "nbformat_minor": 2
}
