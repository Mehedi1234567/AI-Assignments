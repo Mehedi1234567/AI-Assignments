{
 "cells": [
  {
   "cell_type": "markdown",
   "metadata": {},
   "source": [
    "# LAB WORK 01"
   ]
  },
  {
   "cell_type": "code",
   "execution_count": null,
   "metadata": {},
   "outputs": [],
   "source": [
    "class Employee:\n",
    "    def __init__(self,ID, name, salary, Department):\n",
    "        self.ID = ID  \n",
    "        self.name = name\n",
    "        self.salary = salary\n",
    "        self.Department = Department\n",
    "   \n",
    "    def displayEmp(self):\n",
    "        print (\"Name: \"+str(self.name))\n",
    "        print (\"ID: \"+str(self.ID))\n",
    "        print (\"Salary: \"+str(self.salary))\n",
    "        print (\"Department: \"+str(self.Department))\n",
    "        \n",
    "emp = Employee(2330,\"Salman\",99999,\"CSE\")\n",
    "emp.displayEmp()"
   ]
  },
  {
   "cell_type": "markdown",
   "metadata": {},
   "source": [
    "# LAB WORK 02"
   ]
  },
  {
   "cell_type": "code",
   "execution_count": null,
   "metadata": {},
   "outputs": [],
   "source": [
    "class Employee:\n",
    "    def __init__(self, eid, ename, email, address, phone_num):\n",
    "        \n",
    "        self.eid=eid\n",
    "        self.ename=ename\n",
    "        self.email=email\n",
    "        self.address=address\n",
    "        self.phone_num=phone_num\n",
    "        \n",
    "    def printEmployee(self):\n",
    "        print(\"id: %s\\nname: %s\\nemail: %s\\naddress: %s\\nphone: %s\"%(self.eid,self.ename,self.email,self.address,self.phone_num))\n",
    "        \n",
    "        \n",
    "emp1 = Employee(\"101\",\"zaman\",\"abc@gmail.com\",\"mirpur\",\"0287717\")\n",
    "emp2 = Employee(\"192\",\"sayed\",\"gfgfg@gmail.com\",\"dhaka\",\"0234444\")\n",
    "\n",
    "emp1.printEmployee()\n",
    "emp2.printEmployee()\n"
   ]
  },
  {
   "cell_type": "markdown",
   "metadata": {},
   "source": [
    "# LAB WORK 03"
   ]
  },
  {
   "cell_type": "code",
   "execution_count": null,
   "metadata": {},
   "outputs": [],
   "source": [
    "def color_nodes(graph):\n",
    "  # Order nodes in descending degree\n",
    "  nodes = sorted(list(graph.keys()), key=lambda x: len(graph[x]), reverse=True)\n",
    "  color_map = {}\n",
    "\n",
    "  for node in nodes:\n",
    "    available_colors = [True] * len(nodes)\n",
    "    for neighbor in graph[node]:\n",
    "      if neighbor in color_map:\n",
    "        color = color_map[neighbor]\n",
    "        available_colors[color] = False\n",
    "    for color, available in enumerate(available_colors):\n",
    "      if available:\n",
    "        color_map[node] = color\n",
    "        break\n",
    "\n",
    "  return color_map\n",
    "\n",
    "\n",
    "if __name__ == '__main__':\n",
    "  graph = {\n",
    "    'a': list('bcd'),\n",
    "    'b': list('ac'),\n",
    "    'c': list('abdef'),\n",
    "    'd': list('ace'),\n",
    "    'e': list('cdf'),\n",
    "    'f': list('ce')\n",
    "  }\n",
    "  print(color_nodes(graph))"
   ]
  }
 ],
 "metadata": {
  "kernelspec": {
   "display_name": "Python 3",
   "language": "python",
   "name": "python3"
  },
  "language_info": {
   "codemirror_mode": {
    "name": "ipython",
    "version": 3
   },
   "file_extension": ".py",
   "mimetype": "text/x-python",
   "name": "python",
   "nbconvert_exporter": "python",
   "pygments_lexer": "ipython3",
   "version": "3.7.1"
  }
 },
 "nbformat": 4,
 "nbformat_minor": 2
}
